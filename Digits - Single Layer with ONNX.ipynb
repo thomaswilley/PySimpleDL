{
 "cells": [
  {
   "cell_type": "markdown",
   "metadata": {},
   "source": [
    "## A single layer neural network predicting MNIST hand-written digits"
   ]
  },
  {
   "cell_type": "code",
   "execution_count": 1,
   "metadata": {},
   "outputs": [],
   "source": [
    "from simpledl.DLTrainer import DLTrainer\n",
    "from simpledl.ONNXManager import ONNXManager\n",
    "from sklearn.datasets import load_digits\n",
    "from sklearn.model_selection import train_test_split\n",
    "from sklearn.preprocessing import OneHotEncoder\n",
    "import matplotlib.pyplot as plt\n",
    "import numpy as np"
   ]
  },
  {
   "cell_type": "code",
   "execution_count": 2,
   "metadata": {},
   "outputs": [],
   "source": [
    "# Create our own trainer with its own load_data function\n",
    "class MyDLTrainer(DLTrainer):\n",
    "    def load_data(self, test_size=0.1):\n",
    "        \"\"\"load digits dataset\"\"\"\n",
    "        src_X, src_Y = load_digits(return_X_y=True)\n",
    "        X = src_X / np.max(src_X) # normalize\n",
    "        Y = OneHotEncoder(sparse=False, categories='auto').fit_transform(src_Y.reshape(-1, 1))\n",
    "        X_train, X_test, Y_train, Y_test = train_test_split(X, Y, test_size=test_size)\n",
    "        src_X = src_X.T\n",
    "        src_Y = src_Y.T\n",
    "        X = X.T\n",
    "        Y = Y.T\n",
    "        X_train = X_train.T\n",
    "        X_test = X_test.T\n",
    "        Y_train = Y_train.T\n",
    "        Y_test = Y_test.T\n",
    "        return src_X, src_Y, X, Y, X_train, Y_train, X_test, Y_test\n",
    "\n",
    "trainer = MyDLTrainer()\n",
    "trainer.load_data()\n",
    "src_X, src_Y, X, Y, X_train, Y_train, X_test, Y_test = trainer.load_data()\n",
    "dim_input, dim_output = X.shape[0], Y.shape[0]"
   ]
  },
  {
   "cell_type": "code",
   "execution_count": 3,
   "metadata": {},
   "outputs": [],
   "source": [
    "# Create our model's ONNXManager instance\n",
    "mgr = ONNXManager()\n",
    "mgr.create_model(dims=[dim_input, 25, dim_output],\n",
    "                activations=[DLTrainer.nonlin_relu, DLTrainer.nonlin_sigmoid],\n",
    "                default_alpha=0.003,\n",
    "                default_lambda=0.001)"
   ]
  },
  {
   "cell_type": "code",
   "execution_count": 4,
   "metadata": {},
   "outputs": [
    {
     "name": "stdout",
     "output_type": "stream",
     "text": [
      "Cost after 0 epochs: 207.2328482580594 (training set accuracy: 0.0977118119975263)\n",
      "Cost after 2500 epochs: 0.2532803600855973 (training set accuracy: 0.9783549783549784)\n",
      "Cost after 5000 epochs: 0.18565051536263139 (training set accuracy: 0.9876314162028449)\n",
      "Cost after 7500 epochs: 0.1546462317691633 (training set accuracy: 0.9913419913419914)\n",
      "ModelManager updated with trained model. Dev accuracy: 0.9833333333333334\n"
     ]
    },
    {
     "data": {
      "image/png": "[encoded data removed]",
      "text/plain": [
       "<Figure size 432x288 with 1 Axes>"
      ]
     },
     "metadata": {
      "needs_background": "light"
     },
     "output_type": "display_data"
    }
   ],
   "source": [
    "# Train the model\n",
    "updated_model, costs, accuracy = trainer.train(mgr, X_train, Y_train, 10000, 2500)\n",
    "\n",
    "f, ax = plt.subplots()\n",
    "ax.plot(costs)\n",
    "ax.set_yscale('log')\n",
    "ax.set_title(\"Cost v epoch\")\n",
    "\n",
    "mgr.update_model(updated_model)\n",
    "print(\"ModelManager updated with trained model. Dev accuracy: {}\".format(trainer.correct(mgr.model, X_test, Y_test)))"
   ]
  },
  {
   "cell_type": "code",
   "execution_count": 6,
   "metadata": {},
   "outputs": [
    {
     "data": {
      "image/png": "[encoded data removed]",
      "text/plain": [
       "<Figure size 144x144 with 1 Axes>"
      ]
     },
     "metadata": {
      "needs_background": "light"
     },
     "output_type": "display_data"
    }
   ],
   "source": [
    "# Vizualize a random example\n",
    "def visualize(x, title):\n",
    "    f, ax = plt.subplots(figsize=(2,2))\n",
    "    ax.imshow(x.reshape(8, 8), cmap=plt.cm.gray_r)\n",
    "    ax.set_title(title)\n",
    "\n",
    "def get_random_example(X, Y):\n",
    "    import random\n",
    "    idx = random.randrange(0, X.shape[1])\n",
    "    return X[:, idx].reshape(-1, 1), np.argmax(Y[:, idx])\n",
    "\n",
    "X_, Y_ = get_random_example(X_train, Y_train)\n",
    "visualize(X_, str(Y_))"
   ]
  },
  {
   "cell_type": "code",
   "execution_count": 7,
   "metadata": {
    "scrolled": false
   },
   "outputs": [],
   "source": [
    "# create our ONNX model\n",
    "onnx_graph = mgr.make_graph()\n",
    "onnx_model = mgr.make_model()\n",
    "\n",
    "# validate it\n",
    "from onnx import checker\n",
    "checker.check_model(onnx_model)\n",
    "checker.check_graph(onnx_graph)"
   ]
  },
  {
   "cell_type": "code",
   "execution_count": 8,
   "metadata": {},
   "outputs": [
    {
     "name": "stderr",
     "output_type": "stream",
     "text": [
      "/usr/local/lib/python3.6/site-packages/onnx_tf/common/handler_helper.py:74: UserWarning: Unknown op ConstantLike in domain `ai.onnx`.\n",
      "  handler.ONNX_OP, handler.DOMAIN or \"ai.onnx\"))\n"
     ]
    }
   ],
   "source": [
    "# and run it in another ML system (TensorFlow in this case)\n",
    "from onnx_tf.backend import prepare\n",
    "output = prepare(onnx_model).run(X_)  # run the loaded model\n",
    "output = np.array(output).ravel()[0]"
   ]
  },
  {
   "cell_type": "code",
   "execution_count": 11,
   "metadata": {},
   "outputs": [
    {
     "data": {
      "image/png": "[encoded data removed]",
      "text/plain": [
       "<Figure size 144x144 with 1 Axes>"
      ]
     },
     "metadata": {
      "needs_background": "light"
     },
     "output_type": "display_data"
    }
   ],
   "source": [
    "# and visualize the result!\n",
    "visualize(X_, 'Tensorflow Result: {}'.format(output))"
   ]
  },
  {
   "cell_type": "code",
   "execution_count": 15,
   "metadata": {},
   "outputs": [
    {
     "name": "stderr",
     "output_type": "stream",
     "text": [
      "UsageError: Line magic function `%%timeit` not found.\n"
     ]
    }
   ],
   "source": [
    "%%timeit\n",
    "# let's see what it takes for tensorflow's runner to run it\n",
    "X_, Y_ = get_random_example(X_train, Y_train)\n",
    "output = prepare(onnx_model).run(X_)  # run the loaded model\n",
    "output = np.array(output).ravel()[0]"
   ]
  },
  {
   "cell_type": "code",
   "execution_count": null,
   "metadata": {},
   "outputs": [],
   "source": [
    "%%timeit\n",
    "# let's see what it takes for simpledl to run it directly\n",
    "X_, Y_ = get_random_example(X_train, Y_train)\n",
    "output = trainer.predict(mgr.model, X_)"
   ]
  },
  {
   "cell_type": "code",
   "execution_count": null,
   "metadata": {},
   "outputs": [],
   "source": []
  }
 ],
 "metadata": {
  "kernelspec": {
   "display_name": "Python 3",
   "language": "python",
   "name": "python3"
  },
  "language_info": {
   "codemirror_mode": {
    "name": "ipython",
    "version": 3
   },
   "file_extension": ".py",
   "mimetype": "text/x-python",
   "name": "python",
   "nbconvert_exporter": "python",
   "pygments_lexer": "ipython3",
   "version": "3.6.5"
  }
 },
 "nbformat": 4,
 "nbformat_minor": 2
}
